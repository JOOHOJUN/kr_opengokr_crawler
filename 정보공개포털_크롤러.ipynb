{
 "cells": [
  {
   "cell_type": "code",
   "execution_count": null,
   "metadata": {
    "collapsed": true
   },
   "outputs": [],
   "source": [
    "import time\n",
    "from selenium import webdriver\n",
    "from selenium.webdriver.support.ui import Select\n",
    "from selenium.webdriver.support.wait import WebDriverWait\n",
    "from selenium.webdriver.support import expected_conditions as EC\n",
    "from selenium.webdriver.common.by import By\n",
    "from selenium.common.exceptions import NoSuchElementException\n",
    "from selenium.common.exceptions import TimeoutException\n",
    "from bs4 import BeautifulSoup\n",
    "from selenium.webdriver.chrome.options import Options\n",
    "import pandas as pd"
   ]
  },
  {
   "cell_type": "markdown",
   "metadata": {},
   "source": [
    "접속하기 "
   ]
  },
  {
   "cell_type": "code",
   "execution_count": null,
   "metadata": {
    "collapsed": true
   },
   "outputs": [],
   "source": [
    "def 서버통신에러():\n",
    "    try:\n",
    "        WebDriverWait(driver,3).until(EC.alert_is_present())\n",
    "        driver.switch_to_alert().accept()\n",
    "    except:\n",
    "        pass\n",
    "    \n",
    "def 접속하기(아이디, 비밀번호):\n",
    "    for i in range(1,5):\n",
    "        driver.get('https://www.open.go.kr/pa/main/paMain.do')\n",
    "        WebDriverWait(driver, 10).until(EC.presence_of_element_located((By.CLASS_NAME, 'on')))\n",
    "        try:\n",
    "            driver.find_element_by_link_text('로그인').click()\n",
    "            WebDriverWait(driver, 5).until(EC.presence_of_element_located((By.CLASS_NAME, 'mberIdIcon')))\n",
    "            driver.find_element_by_id('mberId').send_keys(아이디)\n",
    "            driver.find_element_by_id('pwd').send_keys(비밀번호)\n",
    "            driver.find_element_by_id('loginSubmitBtn').click()\n",
    "        except:\n",
    "            pass\n",
    "        WebDriverWait(driver, 5).until(EC.presence_of_element_located((By.CLASS_NAME, 'on')))\n",
    "        if str(driver.page_source).count('로그아웃') >0:\n",
    "            break\n",
    "    driver.find_element_by_link_text(\"마이페이지\").click()\n",
    "    WebDriverWait(driver,10).until(EC.element_to_be_clickable((By.PARTIAL_LINK_TEXT, '더보기')))\n",
    "    element = driver.find_element_by_xpath('//*[@id=\"content\"]/div[2]/div[3]/p/span/a')\n",
    "    driver.execute_script(\"arguments[0].click();\", element)"
   ]
  },
  {
   "cell_type": "markdown",
   "metadata": {},
   "source": [
    "데이터 저장"
   ]
  },
  {
   "cell_type": "code",
   "execution_count": null,
   "metadata": {
    "collapsed": true
   },
   "outputs": [],
   "source": [
    "def 저장하기(대학교_정보들):\n",
    "    대학이름 = 대학교_정보들['대학이름']\n",
    "    try:\n",
    "        저장된_정보들 = 저장소.loc[대학이름].to_dict()\n",
    "    except:\n",
    "        #기존 저장소에 새로운 대학교 추가하기\n",
    "        저장소.loc[대학이름] = pd.Series(대학교_정보들)\n",
    "        \n",
    "    else:\n",
    "        #기존 대학교 정보를 업데이트\n",
    "        저장된_정보들.update(대학교_정보들)\n",
    "        저장소.loc[대학이름] = 저장된_정보들"
   ]
  },
  {
   "cell_type": "markdown",
   "metadata": {},
   "source": [
    "공통함수"
   ]
  },
  {
   "cell_type": "code",
   "execution_count": null,
   "metadata": {
    "collapsed": true
   },
   "outputs": [],
   "source": [
    "def 크롬_옵션설정_확인():\n",
    "    options = Options()\n",
    "    options.add_experimental_option(\"prefs\", {\n",
    "      \"download.prompt_for_download\": False,\n",
    "      \"safebrowsing.enabled\": False\n",
    "    })\n",
    "    return options\n",
    "    \n",
    "def 목록갯수_확인():\n",
    "    return driver.find_element_by_xpath('//*[@id=\"totalCount\"]').text\n",
    "\n",
    "def 목록버튼_누르기():\n",
    "    WebDriverWait(driver, 5).until(EC.presence_of_element_located((By.XPATH,'//*[@id=\"listBnt\"]')))\n",
    "    목록버튼 = driver.find_element_by_xpath('//*[@id=\"listBnt\"]')\n",
    "    driver.execute_script(\"arguments[0].click();\", 목록버튼)\n",
    "    \n",
    "def 원하는_페이지_누르기(페이지번호):\n",
    "    element = driver.find_element_by_xpath('//*[@id=\"content\"]/div[2]/div[3]/a['+str(페이지번호+1)+']')\n",
    "    driver.execute_script(\"arguments[0].click();\", element)\n",
    "    서버통신에러()\n",
    "\n",
    "\n",
    "def 조건_누르기(청구일자=\"최근3개월\", 처리상태 =\"전체\"):\n",
    "    #청구일자 선택\n",
    "    WebDriverWait(driver, 5).until(EC.element_to_be_clickable((By.PARTIAL_LINK_TEXT, 청구일자)))\n",
    "    element = driver.find_element_by_partial_link_text(청구일자)\n",
    "    driver.execute_script(\"arguments[0].click();\", element)\n",
    "    \n",
    "\n",
    "    #처리상태 선택\n",
    "    select = Select(driver.find_element_by_name('prcsStsCdSch'))\n",
    "    select.select_by_visible_text(처리상태)\n",
    "\n",
    "\n",
    "    #검색버튼 누르기\n",
    "    element = driver.find_element_by_xpath('//*[@id=\"searchBtn\"]')\n",
    "    driver.execute_script(\"arguments[0].click();\", element)\n",
    "    서버통신에러()\n",
    "\n",
    "def 청구신청_하나_누르기(count):\n",
    "    WebDriverWait(driver, 10).until(EC.element_to_be_clickable((By.XPATH, '//*[@id=\"openBillingTable\"]/tbody/tr['+str(count)+']/td[4]/a')))\n",
    "    element =driver.find_element_by_xpath('//*[@id=\"openBillingTable\"]/tbody/tr['+str(count)+']/td[4]/a')\n",
    "    driver.execute_script(\"arguments[0].click();\", element)\n",
    "\n",
    "def 청구신청조회_저장():\n",
    "    soup = BeautifulSoup(driver.page_source,'html.parser')\n",
    "    tbody = soup.find_all('tbody')[1]\n",
    "    tr_s = tbody.find_all('tr')\n",
    "    임시_딕셔너리 = dict()\n",
    "\n",
    "    for tr in tr_s:\n",
    "        td_s = tr.find_all('td')\n",
    "        임시_딕셔너리['대학이름'] = td_s[4].text\n",
    "        임시_딕셔너리['결정'] = td_s[5].text\n",
    "        임시_딕셔너리['통지(처리)날짜'] = td_s[6].text\n",
    "        저장하기(임시_딕셔너리)\n",
    "\n",
    "def 다음페이지_누르기(넘기는횟수=1):\n",
    "    while 넘기는횟수:\n",
    "        WebDriverWait(driver,5).until(EC.element_to_be_clickable((By.CLASS_NAME,'direction ')))\n",
    "        페이지버튼 = driver.find_elements_by_class_name('direction ')[2]\n",
    "        driver.execute_script(\"arguments[0].click();\",페이지버튼)\n",
    "        if 넘기는횟수 ==1:\n",
    "            return 0\n",
    "        else:\n",
    "            time.sleep(0.3)\n",
    "            넘기는횟수 -=1\n",
    "            \n",
    "\n",
    "def 현재페이지_확인():\n",
    "    soup = BeautifulSoup(driver.page_source, 'html.parser')\n",
    "    페이지들 = soup.find('div',class_='pagination mb20')\n",
    "    현재페이지_ =페이지들.find('strong').text\n",
    "    return 현재페이지_"
   ]
  },
  {
   "cell_type": "markdown",
   "metadata": {},
   "source": [
    "공개, 비공개 처리"
   ]
  },
  {
   "cell_type": "code",
   "execution_count": null,
   "metadata": {
    "collapsed": true
   },
   "outputs": [],
   "source": [
    "def 결정통지_파일다운로드_갯수(갯수):\n",
    "    if 갯수 ==1:\n",
    "        파일다운로드 = driver.find_element_by_xpath('//*[@id=\"dntcFileListTxt\"]/a')\n",
    "        driver.execute_script(\"arguments[0].click();\", 파일다운로드)\n",
    "    elif 갯수 >= 2:\n",
    "        for i in range(1,갯수+1):\n",
    "            파일다운로드 = driver.find_element_by_xpath('//*[@id=\"dntcFileListTxt\"]/a['+str(i)+']')\n",
    "            driver.execute_script(\"arguments[0].click();\", 파일다운로드)\n",
    "\n",
    "def 결정통지_누르기():\n",
    "    WebDriverWait(driver, 5).until(EC.element_to_be_clickable((By.XPATH,'//*[@id=\"listBtn2\"]/a')))\n",
    "    결정통지버튼 = driver.find_element_by_xpath('//*[@id=\"resultBtn2\"]/a')\n",
    "    driver.execute_script(\"arguments[0].click();\", 결정통지버튼)\n",
    "\n",
    "def 결정통지_저장():\n",
    "    soup= BeautifulSoup(driver.page_source, \"html.parser\")\n",
    "    파일갯수 = 파일갯수_확인()\n",
    "    임시_딕셔너리 =dict()\n",
    "    임시_딕셔너리['대학이름']=soup.find('td',id='prcsNstNm').text\n",
    "    임시_딕셔너리['공개사유']=soup.find('td',id='oppCn').text.replace('\\n','')\n",
    "    임시_딕셔너리['비공개사유']=soup.find('td',id='dntcClsdrResnCn').text.replace('\\n','')\n",
    "    임시_딕셔너리['데이터유무'] =파일갯수\n",
    "    결정통지_파일다운로드_갯수(파일갯수)\n",
    "\n",
    "    저장하기(임시_딕셔너리)\n",
    "\n",
    "def 본인확인_누르기():\n",
    "    try:\n",
    "        WebDriverWait(driver, 5).until(EC.presence_of_element_located((By.ID, 'modalIfm')))\n",
    "        driver.switch_to_frame('modalIfm')\n",
    "        driver.find_element_by_xpath('//*[@id=\"content_body\"]/div/map/area').click()\n",
    "        WebDriverWait(driver, 5).until(lambda d: len(driver.window_handles) == 2)\n",
    "        driver.switch_to.window(driver.window_handles[1])\n",
    "        driver.close()\n",
    "        driver.switch_to.window(driver.window_handles[0])\n",
    "    except TimeoutException:\n",
    "        pass\n",
    "\n",
    "def 파일갯수_확인():\n",
    "    soup = BeautifulSoup(driver.page_source,'html.parser')\n",
    "    테이블 = soup.find('td',id='dntcFileListTxt')\n",
    "    본인인증인지 = 테이블.find_all('a')\n",
    "    if len(본인인증인지) == 0:\n",
    "        return 0\n",
    "    elif 본인인증인지[0].text == '본인인증':\n",
    "        return -1\n",
    "    else:\n",
    "        갯수 =len(본인인증인지)\n",
    "        return 갯수"
   ]
  },
  {
   "cell_type": "markdown",
   "metadata": {},
   "source": [
    "종결처리"
   ]
  },
  {
   "cell_type": "code",
   "execution_count": null,
   "metadata": {
    "collapsed": true
   },
   "outputs": [],
   "source": [
    "def 종결처리_사유_확인():\n",
    "    try:\n",
    "        WebDriverWait(driver, 5).until(EC.presence_of_element_located((By.XPATH, '//*[@id=\"infoOppPrcsCn\"]')))\n",
    "        처리사유 = driver.find_element_by_xpath('//*[@id=\"infoOppPrcsCn\"]').text\n",
    "    except TimeoutException:\n",
    "        처리사유 = '시간에러'\n",
    "    except :\n",
    "        처리사유 = '에러'\n",
    "    return 처리사유\n",
    "\n",
    "def 종결처리_누르기_저장(count):\n",
    "    WebDriverWait(driver,5).until(EC.presence_of_element_located((By.XPATH,'//*[@id=\"openBillingTable\"]/tbody/tr[1]/td[6]/a')))\n",
    "    대학이름 = driver.find_element_by_xpath('//*[@id=\"openBillingTable\"]/tbody/tr['+str(count)+']/td[5]').text\n",
    "    처리상태 = driver.find_element_by_xpath('//*[@id=\"openBillingTable\"]/tbody/tr['+str(count)+']/td[6]/a')\n",
    "    driver.execute_script(\"arguments[0].click();\", 처리상태)\n",
    "\n",
    "    WebDriverWait(driver, 5).until(lambda d: len(driver.window_handles) == 2)\n",
    "    driver.switch_to.window(driver.window_handles[1])\n",
    "\n",
    "    처리사유 =종결처리_사유_확인()\n",
    "    저장하기({'대학이름':대학이름,'부존재_종결사유':처리사유})\n",
    "\n",
    "    driver.close()\n",
    "    driver.switch_to.window(driver.window_handles[0])"
   ]
  },
  {
   "cell_type": "markdown",
   "metadata": {},
   "source": [
    "부존재처리"
   ]
  },
  {
   "cell_type": "code",
   "execution_count": null,
   "metadata": {
    "collapsed": true
   },
   "outputs": [],
   "source": [
    "def 부존재사유_저장():\n",
    "    WebDriverWait(driver, 5).until(EC.presence_of_element_located((By.XPATH, '//*[@id=\"oppCn\"]')))\n",
    "    처리사유 = driver.find_element_by_xpath('//*[@id=\"oppCn\"]').text\n",
    "    대학이름 = driver.find_element_by_xpath('//*[@id=\"prcsNstNm\"]').text\n",
    "    저장하기({'대학이름':대학이름,'부존재_종결사유':처리사유})"
   ]
  },
  {
   "cell_type": "code",
   "execution_count": null,
   "metadata": {
    "collapsed": true
   },
   "outputs": [],
   "source": [
    "def 부존재_순서():\n",
    "    for count in range(1,11):\n",
    "        try:\n",
    "            청구신청_하나_누르기(count)\n",
    "        except NoSuchElementException:\n",
    "            break\n",
    "        부존재사유_저장()\n",
    "        목록버튼_누르기()\n",
    "def 종결_순서():\n",
    "    for count in range(1,11):\n",
    "        try:\n",
    "            종결처리_누르기_저장(count)\n",
    "        except NoSuchElementException :\n",
    "            break\n",
    "\n",
    "def 처리완료_순서():\n",
    "    for count in range(1,11):\n",
    "        try:\n",
    "            청구신청_하나_누르기(count)\n",
    "        except NoSuchElementException:\n",
    "            break\n",
    "        except TimeoutException:\n",
    "            break\n",
    "        결정통지_누르기()\n",
    "        결정통지_저장()\n",
    "        목록버튼_누르기()\n",
    "def 대기중_순서():\n",
    "    청구신청조회_저장()\n",
    "\n",
    "\n",
    "def 작동하기(아이디, 비밀번호,원하는_처리상태,청구일자_='최근3개월'):    \n",
    "    접속하기(아이디, 비밀번호)\n",
    "    for 상태 in 원하는_처리상태:\n",
    "        조건_누르기(청구일자=청구일자_,처리상태=상태)\n",
    "        순환범위 = round(int(목록갯수_확인())/10 + 0.4) \n",
    "        print(상태 +': '+목록갯수_확인())\n",
    "        for 페이지 in range(0,순환범위):\n",
    "            청구신청조회_저장()\n",
    "            기능들[상태]()\n",
    "            다음페이지_누르기()"
   ]
  },
  {
   "cell_type": "code",
   "execution_count": null,
   "metadata": {
    "collapsed": true
   },
   "outputs": [],
   "source": [
    "기능들 = {'접수대기중':대기중_순서,'접수완료':대기중_순서,'처리중':대기중_순서,'이송완료':종결_순서,'정보공개정지':대기중_순서,'처리완료':처리완료_순서,'통지완료':처리완료_순서,'10일초과종결':대기중_순서,'종결처리':종결_순서,'정보부존재':부존재_순서}"
   ]
  },
  {
   "cell_type": "code",
   "execution_count": null,
   "metadata": {
    "scrolled": false
   },
   "outputs": [],
   "source": [
    "driver = webdriver.Chrome(r'C:\\chromedriver.exe',chrome_options=크롬_옵션설정_확인())\n",
    "저장소 = pd.DataFrame(columns=['결정','통지(처리)날짜','공개사유','비공개사유','부존재_종결사유','데이터유무'])\n",
    "작동하기('joo4458', 'ghwns328@',['처리완료'])#기능들.keys())\n",
    "저장소.fillna('-').to_excel(r'C:\\Users\\user\\Desktop\\정보목록실태지도\\청구신청_목록.xlsx')\n",
    "driver.quit()"
   ]
  },
  {
   "cell_type": "code",
   "execution_count": null,
   "metadata": {
    "collapsed": true
   },
   "outputs": [],
   "source": []
  }
 ],
 "metadata": {
  "kernelspec": {
   "display_name": "Python 3",
   "language": "python",
   "name": "python3"
  },
  "language_info": {
   "codemirror_mode": {
    "name": "ipython",
    "version": 3
   },
   "file_extension": ".py",
   "mimetype": "text/x-python",
   "name": "python",
   "nbconvert_exporter": "python",
   "pygments_lexer": "ipython3",
   "version": "3.6.3"
  }
 },
 "nbformat": 4,
 "nbformat_minor": 2
}
